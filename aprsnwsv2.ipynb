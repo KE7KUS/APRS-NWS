{
 "cells": [
  {
   "cell_type": "code",
   "execution_count": 47,
   "id": "019f220d-7fdc-4d7f-9321-24bcaf6ae610",
   "metadata": {},
   "outputs": [],
   "source": [
    "# APRS-NWS\n",
    "# Copyright 2021, Kurt Kochendarfer (KE7KUS)\n",
    "\n",
    "# ===GNU Public License v3===\n",
    "# This file is part of APRS-NWS.\n",
    "\n",
    "# APRS-NWS is free software: you can redistribute it and/or modify it under the terms of the GNU General Public License \n",
    "# as published by the Free Software Foundation, either version 3 of the License, or (at your option) any later version.\n",
    "\n",
    "# APRS-NWS is distributed in the hope that it will be useful,but WITHOUT ANY WARRANTY; without even the implied warranty of\n",
    "# MERCHANTABILITY or FITNESS FOR A PARTICULAR PURPOSE.  See the GNU General Public License for more details.\n",
    "\n",
    "# You should have received a copy of the GNU General Public License along with APRS-NWS.  If not, see <https://www.gnu.org/licenses/>."
   ]
  },
  {
   "cell_type": "markdown",
   "id": "8ee87a64-aebf-4b6f-bcfe-99a1b9c6053d",
   "metadata": {},
   "source": [
    "## License\n",
    "\n",
    "APRS-NWS is distributed under the GNU Public License v3.  See the <a href=\"https://www.gnu.org/licenses\">Free Software Foundation</a> for details."
   ]
  },
  {
   "cell_type": "code",
   "execution_count": 48,
   "id": "1d3490c8-d766-4c31-ae70-263f229c9f63",
   "metadata": {
    "tags": []
   },
   "outputs": [],
   "source": [
    "#-----IMPORTS-----#\n",
    "import time, datetime, requests, os, sys\n",
    "import lxml.etree as et\n",
    "from io import BytesIO\n",
    "import nm, cap"
   ]
  },
  {
   "cell_type": "markdown",
   "id": "d9792bee-be10-4b85-afa5-f41b0b8ff36e",
   "metadata": {},
   "source": [
    "## Program Dependencies\n",
    "\n",
    "The Python libraries used to support this program and their functional overview are listed below:\n",
    "\n",
    "* time - used to execute the *sleep* function between message build attempts.\n",
    "* datetime - used in formatting the DTG for alert message start and end.\n",
    "* requests - used in retrieving XML data from the NWS alerts website\n",
    "* os - used to write the formatted text packet text file ('/tmp/wxalerts.txt')\n",
    "* sys - used to write output to *stdout*\n",
    "* lxml.etree - handles the XPath processing of the NWS ATOM feed\n",
    "* io - used in byte type conversion for XML string handling\n",
    "\n",
    "* nm - companion file from APRS-NWS package which has dictionary of NM zones/counties.  Used for NWS -> APRS formatting conversions.\n",
    "* cap - companion file from APRS-NWS package which has several dictionaries of CAP-standard messages/events.  Used for NWS -> APRS formatting conversions.\n",
    "\n",
    "Dependency resolution/installation is built into the software and should self-resolve."
   ]
  },
  {
   "cell_type": "code",
   "execution_count": 49,
   "id": "3e363e57-5bc8-4323-87a8-fdaa8baa946d",
   "metadata": {},
   "outputs": [],
   "source": [
    "#-----GLOBALS-----#\n",
    "LOCALE = ('nm')\n",
    "t = None"
   ]
  },
  {
   "cell_type": "markdown",
   "id": "28000a37-5b23-4d39-a186-ae4ec23d9f2b",
   "metadata": {},
   "source": [
    "## Global Definitions\n",
    "\n",
    "Several global definitions are needed:\n",
    "\n",
    "* LOCALE - used in conjunction with import of .py file definitions for zones/counties to be processed by APRS-NWS\n",
    "* t - declaration ultimately used to hold XML feed data"
   ]
  },
  {
   "cell_type": "code",
   "execution_count": 50,
   "id": "373cd7c5-61d4-4c86-bb4f-8f5d657fb330",
   "metadata": {},
   "outputs": [],
   "source": [
    "#-----CLASSES-----#\n",
    "class XMLHandler:\n",
    "    \"\"\"Methods for extracting alert data from the NWS ATOM feed.\"\"\"\n",
    "\n",
    "    def __init__(self):\n",
    "        \"\"\"Initializes XML handler to parse imported XML (normally from an instance of the webHandler class). \n",
    "        \n",
    "        Namespaces are unique to the XML file being parsed and are defined in the self.ns variable.  Even if only using a default namespace, that namespace MUST be defined and used in path construction for lxml to parse the XML file.  See <https://lxml.de/xpathxslt.html> for more details.\"\"\"\n",
    "        \n",
    "        self.ns = {\"atom\":\"http://www.w3.org/2005/Atom\",\n",
    "                   \"cap\":\"urn:oasis:names:tc:emergency:cap:1.1\",\n",
    "                   \"ha\":\"http://www.alerting.net/namespace/index_1.0\"\n",
    "                  }"
   ]
  },
  {
   "cell_type": "markdown",
   "id": "dc1ef5f3-c3c6-4a67-8120-1aa19e4875c9",
   "metadata": {},
   "source": [
    "## XMLHandler Class\n",
    "\n",
    "This class contains methods used to process the NWS ATOM alert feed.  The Python lxml library is used to process the XML via XPath conventions for annotating tree structure.\n",
    "\n",
    "Initialization of an instance of XMLHandler includes a namespace map.  With lxml it is *imperative* that all namespaces in the XML feed be defined in the **self.ns{}** dictionary, to include definition of the default namespace.  While this adds some complexity to the XPath definitions during processing, it ultimately provides an unambiguous tree processing convention which aids in rapid, clean XML handling.\n",
    "\n",
    "The methods defined in this class handle data per the Common Alerting Protocol v1.1 standard.  For details on specific method data, see the <a href=\"https://www.oasis-open.org/committees/download.php/14759/emergency-CAPv1.1.pdf\">OASIS CAP v1.1</a> standard documentation.\n",
    "\n",
    "For methods where *enum* is used as an input variable, *enum* is simply a placeholder variable which was designed to be used with an iterator.  NWS alert feeds very frequently contain more than one alert event.  The *enum* construct allows simple iteration through a feed in the **main()** method of the program."
   ]
  },
  {
   "cell_type": "code",
   "execution_count": 51,
   "id": "1b873152-f478-4576-a0a4-8fc0f06d4e24",
   "metadata": {},
   "outputs": [],
   "source": [
    "    def getEntryId(self, enum, default='N/A'):\n",
    "        \"\"\"Get feed entry ID number.\"\"\"\n",
    "        self.enum = enum\n",
    "        \n",
    "        try:\n",
    "            self.path = 'atom:entry[' + str(self.enum) + ']/atom:id/text()'\n",
    "            self.i = getAlerts(LOCALE).xpath(self.path, namespaces=self.ns)\n",
    "            return self.i if self.enum else default\n",
    "        \n",
    "        except Exception as ex:\n",
    "            print(f'getEntryId Exception: {ex}')"
   ]
  },
  {
   "cell_type": "markdown",
   "id": "408305db-ae5c-4d01-aa19-0581a2a668f2",
   "metadata": {},
   "source": [
    "### Entry ID\n",
    "\n",
    "Each entry in the NWS ATOM feed has a unique entry ID.  This method retrieves that ID."
   ]
  },
  {
   "cell_type": "code",
   "execution_count": 52,
   "id": "bc461893-acf5-43e4-ac22-3c75325befad",
   "metadata": {},
   "outputs": [],
   "source": [
    "    def getEntryPublishedTime(self, enum, default='N/A'):\n",
    "        \"\"\"Get feed entry time published.\"\"\"\n",
    "        self.enum = enum\n",
    "        \n",
    "        try:\n",
    "            self.path = 'atom:entry[' + str(self.enum) + ']/atom:published/text()'\n",
    "            self.i = getAlerts(LOCALE).xpath(self.path, namespaces=self.ns)\n",
    "            return self.i if self.enum else default\n",
    "        \n",
    "        except Exception as ex:\n",
    "            print(f'getEntryPublishedTime Exception: {ex}')"
   ]
  },
  {
   "cell_type": "markdown",
   "id": "ba68db9e-c3b6-4a5c-82c8-19a1cb5b8857",
   "metadata": {},
   "source": [
    "### Entry Published Time\n",
    "\n",
    "Each entry in the NWS ATOM feed has a published time.  NOTE: the *published* time is differentiated from the entry *effective* time, which is the time the alert goes active.  This method retrieves the entry *published* time."
   ]
  },
  {
   "cell_type": "code",
   "execution_count": 53,
   "id": "95000097-d919-403e-97ee-cb86b7ad705b",
   "metadata": {},
   "outputs": [],
   "source": [
    "    def getEntryUpdatedTime(self, enum, default='N/A'):\n",
    "        \"\"\"Get feed entry time updated.\"\"\"\n",
    "        self.enum = enum\n",
    "        \n",
    "        try:\n",
    "            self.path = 'atom:entry[' + str(self.enum) + ']/atom:updated/text()'\n",
    "            self.i = getAlerts(LOCALE).xpath(self.path, namespaces = self.ns)\n",
    "            return self.i if self.enum else default\n",
    "        \n",
    "        except Exception as ex:\n",
    "            print(f'getEntryUpdatedTime Exception: {ex}')"
   ]
  },
  {
   "cell_type": "markdown",
   "id": "d7a06858-8443-4ae2-8624-33dbda17241b",
   "metadata": {},
   "source": [
    "### Entry Updated Time\n",
    "\n",
    "Entries which have already been published may need to be updated.  If the original entry ID remains the same, but the entry is updated, this DTG indicates the date/time of the most recent update.  This method retrieves the update time."
   ]
  },
  {
   "cell_type": "code",
   "execution_count": 54,
   "id": "16a65259-68c8-439d-99b7-4c792c55c6aa",
   "metadata": {},
   "outputs": [],
   "source": [
    "    def getEntryEventType(self, enum, default='N/A'):\n",
    "        \"\"\"Get feed entry event type.\"\"\"\n",
    "        self.enum = enum\n",
    "        \n",
    "        try:\n",
    "            self.path = 'atom:entry[' + str(self.enum) + ']/cap:event/text()'\n",
    "            self.i = getAlerts(LOCALE).xpath(self.path, namespaces = self.ns)\n",
    "            return self.i if self.enum else default\n",
    "        \n",
    "        except Exception as ex:\n",
    "            print(f'getEntryEventType Exception: {ex}')"
   ]
  },
  {
   "cell_type": "markdown",
   "id": "44d5e8de-e1ee-4701-9c2a-67185a39fc1a",
   "metadata": {},
   "source": [
    "### Entry Event Type\n",
    "\n",
    "The NWS currently implements the Common Alerting Protocol v1.1 standard to format ATOM messages; however, several fields used by the NWS have additional specifications above those listed in the CAP standard.  The NWS utilizes a fixed list of available event types to identify event instances.  The <a href=\"https://alerts.weather.gov/cap/product_list.txt\">most current list</a> is available at the NWS alert website."
   ]
  },
  {
   "cell_type": "code",
   "execution_count": 55,
   "id": "cb298fb0-5f38-485e-bdac-1a863925a809",
   "metadata": {},
   "outputs": [],
   "source": [
    "    def getEntryEventEffective(self, enum, default='N/A'):\n",
    "        \"\"\"Get feed entry event effective DTG.\"\"\"\n",
    "        self.enum = enum\n",
    "        \n",
    "        try:\n",
    "            self.path = 'atom:entry[' + str(self.enum) + ']/cap:effective/text()'\n",
    "            self.i = getAlerts(LOCALE).xpath(self.path, namespaces = self.ns)\n",
    "            return self.i if self.enum else default\n",
    "        \n",
    "        except Exception as ex:\n",
    "            print(f'getEntryEventEffective Exception: {ex}')"
   ]
  },
  {
   "cell_type": "markdown",
   "id": "7d9c3d9a-502d-4485-9ae3-06a1218eac75",
   "metadata": {},
   "source": [
    "### Entry Event Effective\n",
    "\n",
    "The effective time is the time the alert goes active.  This method retrieves the effective time."
   ]
  },
  {
   "cell_type": "code",
   "execution_count": 56,
   "id": "34e5392d-c09a-487d-82dd-da4355940ba7",
   "metadata": {},
   "outputs": [],
   "source": [
    "    def getEntryEventExpires(self, enum, default='N/A'):\n",
    "        \"\"\"Get feed entry event expires DTG.\"\"\"\n",
    "        self.enum = enum\n",
    "        \n",
    "        try:\n",
    "            self.path = 'atom:entry[' + str(self.enum) + ']/cap:expires/text()'\n",
    "            self.i = getAlerts(LOCALE).xpath(self.path, namespaces = self.ns)\n",
    "            return self.i if self.enum else default\n",
    "        \n",
    "        except Exception as ex:\n",
    "            print(f'getEntryEventExpires Exception: {ex}')"
   ]
  },
  {
   "cell_type": "markdown",
   "id": "e1611ee2-2532-4354-92b1-f31f1576a507",
   "metadata": {},
   "source": [
    "### Entry Event Expires\n",
    "\n",
    "The expiration time is the time the alert period ends.  This method retrieves the expiration time."
   ]
  },
  {
   "cell_type": "code",
   "execution_count": 57,
   "id": "5977db58-ca44-4ed2-96fd-40ad03261a6b",
   "metadata": {},
   "outputs": [],
   "source": [
    "    def getEntryEventStatus(self, enum, default='N/A'):\n",
    "        \"\"\"Get feed entry event status.\"\"\"\n",
    "        self.enum = enum\n",
    "        \n",
    "        try:\n",
    "            self.path = 'atom:entry[' + str(self.enum) + ']/cap:status/text()'\n",
    "            self.i = getAlerts(LOCALE).xpath(self.path, namespaces = self.ns)\n",
    "            return self.i if self.enum else default\n",
    "        \n",
    "        except Exception as ex:\n",
    "            print(f'getEntryEventStatus Exception: {ex}')"
   ]
  },
  {
   "cell_type": "markdown",
   "id": "efeadc47-69cd-4520-905c-d046fa66aaca",
   "metadata": {},
   "source": [
    "### Entry Event Status\n",
    "\n",
    "The entry event status indicates the status of the entry event.  This method retrieves the event status."
   ]
  },
  {
   "cell_type": "code",
   "execution_count": 58,
   "id": "3b7e5638-6919-4975-9584-fa2f04d9b879",
   "metadata": {},
   "outputs": [],
   "source": [
    "    def getEntryEventMessageType(self, enum, default='N/A'):\n",
    "        \"\"\"Get feed entry event message type.\"\"\"\n",
    "        self.enum = enum\n",
    "        \n",
    "        try:\n",
    "            self.path = 'atom:entry[' + str(self.enum) + ']/cap:msgType/text()'\n",
    "            self.i = getAlerts(LOCALE).xpath(self.path, namespaces = self.ns)\n",
    "            return self.i if self.enum else default\n",
    "        \n",
    "        except Exception as ex:\n",
    "            print(f'getEntryEventMessageType Exception: {ex}')"
   ]
  },
  {
   "cell_type": "markdown",
   "id": "431758c9-d5c0-4119-aba1-ae0e5ccb19d5",
   "metadata": {},
   "source": [
    "### Entry Event Message Type\n",
    "\n",
    "The entry event message can have several different administrative message types (Alert, Cancel, Update, etc.).  This method retrieves the event message type."
   ]
  },
  {
   "cell_type": "code",
   "execution_count": 59,
   "id": "c4c48952-0fc7-4244-9151-90d0793e6bae",
   "metadata": {},
   "outputs": [],
   "source": [
    "    def getEntryEventCategory(self, enum, default='N/A'):\n",
    "        \"\"\"Get feed entry event category.\"\"\"\n",
    "        self.enum = enum\n",
    "        \n",
    "        try:\n",
    "            self.path = 'atom:entry[' + str(self.enum) + ']/cap:category/text()'\n",
    "            self.i = getAlerts(LOCALE).xpath(self.path, namespaces = self.ns)\n",
    "            return self.i if self.enum else default\n",
    "        \n",
    "        except Exception as ex:\n",
    "            print(f'getEntryEventCategory Exception: {ex}')"
   ]
  },
  {
   "cell_type": "markdown",
   "id": "b005e0b8-df5d-432e-af40-36d9167fcc6a",
   "metadata": {},
   "source": [
    "### Entry Event Category\n",
    "\n",
    "The entry event can be one of several different categories (Meteorological, Safety, Rescue, etc.).  The NWS feed consists primarily of MET category alerts; however, all types specified by the CAP v1.1 standard are recognized and displayed by APRS-NWS in the event NWS channels are used to enable widespread dissemination of non-metro alert data.  This method retrieves the event category."
   ]
  },
  {
   "cell_type": "code",
   "execution_count": 60,
   "id": "972625bd-614e-41b5-892e-3ccbd9d77232",
   "metadata": {},
   "outputs": [],
   "source": [
    "    def getEntryEventUrgency(self, enum, default='N/A'):\n",
    "        \"\"\"Get feed entry event urgency.\"\"\"\n",
    "        self.enum = enum\n",
    "        \n",
    "        try:           \n",
    "            self.path = 'atom:entry[' + str(self.enum) + ']/cap:urgency/text()'\n",
    "            self.i = getAlerts(LOCALE).xpath(self.path, namespaces = self.ns)\n",
    "            return self.i if self.enum else default\n",
    "        \n",
    "        except Exception as ex:\n",
    "            print(f'getEntryEventUrgency Exception: {ex}')"
   ]
  },
  {
   "cell_type": "markdown",
   "id": "894d867c-007e-4e09-a478-daf3257d169d",
   "metadata": {},
   "source": [
    "### Entry Event Urgency\n",
    "\n",
    "The entry event has a specified forecast urgency.  This method retrieves the event urgency."
   ]
  },
  {
   "cell_type": "code",
   "execution_count": 61,
   "id": "2a154609-231d-49fb-b444-81415612ac0c",
   "metadata": {},
   "outputs": [],
   "source": [
    "    def getEntryEventSeverity(self, enum, default='N/A'):\n",
    "        \"\"\"Get feed entry event severity.\"\"\"\n",
    "        self.enum = enum\n",
    "        \n",
    "        try:\n",
    "            self.path = 'atom:entry[' + str(self.enum) + ']/cap:severity/text()'\n",
    "            self.i = getAlerts(LOCALE).xpath(self.path, namespaces = self.ns)\n",
    "            return self.i if self.enum else default\n",
    "        \n",
    "        except Exception as ex:\n",
    "            print(f'getEntryEventSeverity Exception: {ex}')"
   ]
  },
  {
   "cell_type": "markdown",
   "id": "80b86cc0-3ed6-4621-a1f1-1152470979f6",
   "metadata": {},
   "source": [
    "### Entry Event Severity\n",
    "\n",
    "The entry event has a specified forecast severity.  This method retrieves the severity."
   ]
  },
  {
   "cell_type": "code",
   "execution_count": 62,
   "id": "6146faaf-ba74-42c2-937d-1504e07013a2",
   "metadata": {},
   "outputs": [],
   "source": [
    "    def getEntryEventCertainty(self, enum, default='N/A'):\n",
    "        \"\"\"Get feed entry event severity.\"\"\"\n",
    "        self.enum = enum\n",
    "        \n",
    "        try:\n",
    "            self.path = 'atom:entry[' + str(self.enum) + ']/cap:certainty/text()'\n",
    "            self.i = getAlerts(LOCALE).xpath(self.path, namespaces = self.ns)\n",
    "            return self.i if self.enum else default\n",
    "        \n",
    "        except Exception as ex:\n",
    "            print(f'getEntryEventCertainty Exception: {ex}')"
   ]
  },
  {
   "cell_type": "markdown",
   "id": "e48aae64-db5b-4d02-81ed-30b94a3be20c",
   "metadata": {},
   "source": [
    "### Entry Event Certainty\n",
    "\n",
    "The entry event has a specified forecast certainty.  This method retrieves the certainty."
   ]
  },
  {
   "cell_type": "code",
   "execution_count": 63,
   "id": "adfff840-2f1f-45eb-94f4-c6e62a00fecb",
   "metadata": {},
   "outputs": [],
   "source": [
    "    def getEntryEventPolygon(self, enum, default='N/A'):\n",
    "        \"\"\"Get feed entry event polygon.  Returns a string of lat/lon in the format (-)DD.DD (-)DDD.DD,(-)DD.DD (-)DDD.DD (i.e. lat/lon are comma-separated...lat/lon pairs are space-separated.)\"\"\"\n",
    "        self.enum = enum\n",
    "        \n",
    "        try:\n",
    "            self.path = 'atom:entry[' + str(self.enum) + ']/cap:polygon/text()'\n",
    "            self.i = getAlerts(LOCALE).xpath(self.path, namespaces = self.ns)\n",
    "            return self.i if self.enum else default\n",
    "        \n",
    "        except Exception as ex:\n",
    "            print(f'getEntryEventPolygon Exception: {ex}')"
   ]
  },
  {
   "cell_type": "markdown",
   "id": "445175c8-87dd-474d-ae6f-99ab845956a1",
   "metadata": {},
   "source": [
    "### Entry Event Polygon\n",
    "\n",
    "Some NWS alerts come with a polygon data set of lat/lon coordinates used to define a broader warning area.  This method retrieves the polygon coordinate set.  Future functionality using this data will include creating an APRS area object from the polygon data set."
   ]
  },
  {
   "cell_type": "code",
   "execution_count": 64,
   "id": "3e04a4f6-dba7-40fc-890c-9e95ce30cd53",
   "metadata": {},
   "outputs": [],
   "source": [
    "    def getEntryEventAreaDescription(self, enum, default='N/A'):\n",
    "        \"\"\"Get feed entry event area description.  Returns a string of semi-colon separated standardized area descriptions.\"\"\"\n",
    "        self.enum = enum\n",
    "        \n",
    "        try:\n",
    "            self.path = 'atom:entry[' + str(self.enum) + ']/cap:areaDesc/text()'\n",
    "            self.i = getAlerts(LOCALE).xpath(self.path, namespaces = self.ns)\n",
    "            return self.i if self.enum else default\n",
    "        \n",
    "        except Exception as ex:\n",
    "            print(f'getEntryEventAreaDescription Exception: {ex}')"
   ]
  },
  {
   "cell_type": "markdown",
   "id": "222e937e-83f4-41a8-a2b9-bbe2a9d9f2bb",
   "metadata": {},
   "source": [
    "### Entry Event Area Description\n",
    "\n",
    "The NWS utilizes standard codes to define alert area zones/counties.  Each zone/county code is accompanied by a standard textual definition of the alert zone/county.  This method retrieves the textual alert area description.  NOTE: Many alerts have more than one area description, as the alerts are often issued for more than one zone/county at a time.  This method returns all areas as a space-delineated text string."
   ]
  },
  {
   "cell_type": "code",
   "execution_count": 65,
   "id": "7d4d6358-29d6-4eb3-a310-c62abc5460a3",
   "metadata": {},
   "outputs": [],
   "source": [
    "    def getEntryEventGeocodeValue(self, enum, default='N/A'):\n",
    "        \"\"\"Get CAP geocode area values for individual warning/alerts areas.  Uses NWS-standardized zone/county descriptors.  \"\"\"\n",
    "        self.enum = enum\n",
    "        \n",
    "        try:\n",
    "            self.path = 'atom:entry[' + str(self.enum) + ']/cap:geocode/atom:value[2]/text()'\n",
    "            self.i = getAlerts(LOCALE).xpath(self.path, namespaces = self.ns)\n",
    "            return self.i if self.enum else default\n",
    "        \n",
    "        except Exception as ex:\n",
    "            print(f'getEntryEventGeocodeValue Exception: {ex}')"
   ]
  },
  {
   "cell_type": "markdown",
   "id": "2c96258f-97ff-4cd0-9c3a-8ec951e2f9c0",
   "metadata": {},
   "source": [
    "### Entry Event Geocode Value\n",
    "\n",
    "The NWS utilizes standard geocodes to define alert area zones/counties.  This method retrieves the geocodes.  NOTE:  Many alerts have more than one geocode, as the alerts are often issued for more than one zone/county at a time.  This method returns all geocodes as a space delineated text string.  The **main()** method of the program splits the group of geocodes and issues an APRS message alert for each geocode individually to allow end users to implement message filter functionality of most APRS clients to receive alerts only for zones/counties which concern them."
   ]
  },
  {
   "cell_type": "code",
   "execution_count": 66,
   "id": "88fdb881-73d0-4873-b02b-852604afd73f",
   "metadata": {},
   "outputs": [],
   "source": [
    "class MsgHandler:\n",
    "    \"\"\"Methods for creating properly formatted APRS messages.  See <http://www.aprs.org/doc/APRS101.PDF> for baseline message specifications.  Follow-on specifications changes are documented at <http://www.aprs.org/aprs11.html> and proposed improvements at <http://www.aprs.org/aprs12.html>.\"\"\"\n",
    "    \n",
    "    def __init__(self):\n",
    "        \"\"\"Initializes message handler to create APRS-formatted messages.  Default text encoding is UTF-8.\"\"\"\n",
    "        self.encoding = 'utf-8'"
   ]
  },
  {
   "cell_type": "markdown",
   "id": "9b0c54c9-3ff4-4321-a075-62cf9f987dc6",
   "metadata": {},
   "source": [
    "## MsgHandler Class\n",
    "\n",
    "This class contains methods to create properly formatted APRS messages in accordance with published APRS standards."
   ]
  },
  {
   "cell_type": "code",
   "execution_count": 67,
   "id": "9ea16ecc-2b5f-4d76-8816-4621ca40a602",
   "metadata": {},
   "outputs": [],
   "source": [
    "    def makeToCall(self, geocode):\n",
    "        \"\"\"Create a 9-byte to-call for weather alert messages using the format XXXXXX___, where XXXXXX is a standardized NWS six-byte alert zone or county identifier, followed by three spaces.  Per the APRS specification, the to-call is a fixed 9-byte address.\"\"\"\n",
    "        self.geocode = geocode\n",
    "        \n",
    "        try:\n",
    "            if len(self.geocode) <= 6:\n",
    "                self.tocall = str(self.geocode + '   ')\n",
    "            else:\n",
    "                self.tocall = self.geocode.split(' ')\n",
    "            return self.tocall\n",
    "        \n",
    "        except Exception as ex:\n",
    "            print(f'makeToCall Exception: {ex}')"
   ]
  },
  {
   "cell_type": "markdown",
   "id": "b44dab07-e6e0-4327-8b54-07ed4669152b",
   "metadata": {},
   "source": [
    "### Make ToCall\n",
    "\n",
    "APRS messages are addressed using a 9-bit \"to-call\" (not to be confused with the AX.25 UI packet TOCALL) which can be thought of as the address to which the message is sent.  With station-to-station messaging, the to-call is normally the callsign+SSID of the station to whom the APRS message is sent; however, the APRS standard also makes provision for \"group messaging\" where a message is addressed to a group address and client hardware/software can be configured with filters to only display group messages of interest.  \n",
    "\n",
    "Historically, many clients have displayed *NWS*-addressed messages by default, as the NWS message is a defined group message in the APRS v1.01 specification.  Unfortunately, this often causes distant stations to receive NWS message alerts for weather events that are not in their local area/area of interest.\n",
    "\n",
    "APRS-NWS implements a new convention where the *NWS* message from APRS v1.01 specification is modified using the NWS-assigned six-byte county/zone geocode as the \"to-call\" for the message.  Fucntionally, this creates a group message to that zone/county.  Users can then configure their APRS client to display one or more zones/counties of interest.  Many clients also allows the used of a wildcard character, so users who wish to view alerts can simply adjust their message filter in the following manner:\n",
    "\n",
    "**Zone-level Filter Setup**\n",
    "The zone of interest is NMZ414.  The end-user does not want to receive any other NWS alerts.  Client group message filter is set to:  **NMZ414**\n",
    "\n",
    "**Multi-Zone Filter Setup**\n",
    "The zones of interest are NMZ414 and NMC035.  The end-user does not want to receive any other NWS alerts.  Client group message filter is set to:  **NMZ414**,**NMC035**\n",
    "\n",
    "**State-Level Filter Setup**\n",
    "The end-user is interested in receiving all alerts for the state of New Mexico.  Client group message filter is set to:  **NM*** (where * is the client hardware/software wildcard character)\n",
    "\n",
    "**Multi-State Filter Setup**\n",
    "The end-user is interested in receiving all alerts for the states of New Mexico and Texas.  Client group message filter is set to:  **NM***,**TX*** (where * is the client hardware/software wildcard character)"
   ]
  },
  {
   "cell_type": "code",
   "execution_count": 68,
   "id": "3749e5f3-eb8f-45f5-94e3-fbec97140207",
   "metadata": {},
   "outputs": [],
   "source": [
    "    def makeWxMsgPacket(self, evttype, atype, severity, certainty, urgency, category, eff_start, eff_end):\n",
    "        \"\"\"Create APRS weather alert message.\"\"\"\n",
    "        self.evttype = evttype\n",
    "        self.atype = atype\n",
    "        self.severity = severity\n",
    "        self.certainty = certainty\n",
    "        self.urgency = urgency\n",
    "        self.category = category\n",
    "        self.eff_start = eff_start\n",
    "        self.eff_end = eff_end\n",
    "        \n",
    "        try:\n",
    "            self.msg_pkt = (f'*{self.evttype}* {self.atype} {self.severity}-{self.certainty}-{self.urgency} {self.category} {self.eff_start}-{self.eff_end}')\n",
    "            if len(self.msg_pkt) <= 78:      # Maximum allowable length of the APRS NWS message minus message ID length is 78 characters.\n",
    "                return self.msg_pkt\n",
    "            else:\n",
    "                print('The message packet is too long...truncating.')\n",
    "                return self.msg_pkt[:79]\n",
    "            \n",
    "        except Exception as ex:\n",
    "            print(f'makeWxMsgPacket Exception: {ex}')"
   ]
  },
  {
   "cell_type": "markdown",
   "id": "7aba9960-8200-444a-8975-fbe68776c7b3",
   "metadata": {},
   "source": [
    "### Make Weather Message Packet\n",
    "\n",
    "Method to assemble parsed/formatted data into a valid APRS message, using the APRS-NWS specification for a weather alert packet.  Contains a length validation check to ensure that total packet length complies with the APRS v1.01 standard for an NWS alert packet.  Excessively long packets are still formed, but truncated with alerting."
   ]
  },
  {
   "cell_type": "code",
   "execution_count": 69,
   "id": "c2f0d7f1-bcef-483d-b46e-b1b8b576d204",
   "metadata": {},
   "outputs": [],
   "source": [
    "    def appendMsgId(self, msg):\n",
    "        \"\"\"Append a valid APRS message ID to a constructed message using the Python hash() function.  NOTE: hash() can only be used on immutable Python objects.  Returns the entire message w/ ID.\"\"\"\n",
    "        self.msg = msg\n",
    "        \n",
    "        try:\n",
    "            self.h = str(hash(self.msg))\n",
    "            self.m_id = self.h[-5:]\n",
    "            self.t_msg = str(self.msg + '{' + self.m_id)\n",
    "            return self.t_msg\n",
    "        \n",
    "        except Exception as ex:\n",
    "            print(f'appendMsgId Exception: {ex}')"
   ]
  },
  {
   "cell_type": "markdown",
   "id": "ac17034d-bea5-4ea6-9ca5-9ba803f4f1b1",
   "metadata": {},
   "source": [
    "### Append Message ID\n",
    "\n",
    "APRS messages can be sent with a 5-byte message ID appended to the end of the message.  This ID is commonly used to mitigate unnecessary duplicate packets in the system at various points.  The Python **hash()** function is used here to generate an ID; however, there are two major things to note about the implementation of the hash function:\n",
    "\n",
    "1. The **hash()** function can only be used on immutable objects (like tuples).\n",
    "2. The hash for a message will remain the same as long as it is computed under the same running instance.  If the program stops and is restarted, the hash for the same ASCII string will be different.\n",
    "\n",
    "Other methods such as CRC checks can also be used to generate a suitable message ID if the above constraints do not meet end-user needs."
   ]
  },
  {
   "cell_type": "code",
   "execution_count": 70,
   "id": "2b8a8593-3197-416d-aab8-1a24a696c5b5",
   "metadata": {},
   "outputs": [
    {
     "ename": "SyntaxError",
     "evalue": "unexpected EOF while parsing (<ipython-input-70-1edb27e1ded1>, line 8)",
     "output_type": "error",
     "traceback": [
      "\u001b[0;36m  File \u001b[0;32m\"<ipython-input-70-1edb27e1ded1>\"\u001b[0;36m, line \u001b[0;32m8\u001b[0m\n\u001b[0;31m    os.remove('/tmp/wxalerts.txt')\u001b[0m\n\u001b[0m                                  ^\u001b[0m\n\u001b[0;31mSyntaxError\u001b[0m\u001b[0;31m:\u001b[0m unexpected EOF while parsing\n"
     ]
    }
   ],
   "source": [
    "def main():\n",
    "    \"\"\"Main program.\"\"\"\n",
    "    x = XMLHandler()\n",
    "    m = MsgHandler()\n",
    "    \n",
    "    try:\n",
    "        if os.path.exists('/tmp/wxalerts.txt'):\n",
    "            os.remove('/tmp/wxalerts.txt')"
   ]
  },
  {
   "cell_type": "markdown",
   "id": "19b6a4ac-c2b7-466e-9e2f-480059dcf16d",
   "metadata": {},
   "source": [
    "## Main Program\n",
    "\n",
    "The main program creates a .txt file at */tmp/wxalerts.txt* if one doesn't already exist, or deletes and replaces the file if it does exist.  This step is critical to the implementation of APRS-NWS with the APRX software suite.  The separate companion script *aprxfeeder.py* reads the file */tmp/wxalerts.txt* and writes the top line of the file to *stdout*, then deletes the line.  APRX takes the output to *stdout* and transmits it as a raw APRS packet.  Since APRX is unable to process a multi-line file, this process is repeated at an interval defined in the */etc/aprx.conf* file (5 minutes is the default interval).\n",
    "\n",
    "Future functionality will eliminate the implementation of the .txt file and instead pass the packet over a TCP port directly to APRX for transmission."
   ]
  },
  {
   "cell_type": "code",
   "execution_count": null,
   "id": "584b2ba6-4a21-4528-8dfb-5d348d56429f",
   "metadata": {},
   "outputs": [],
   "source": [
    "        e = 1\n",
    "        while e <= entries:\n",
    "            zones = x.getEntryEventGeocodeValue(e)\n",
    "            evttype = x.getEntryEventType(e)\n",
    "            atype = x.getEntryEventMessageType(e)\n",
    "            severity = x.getEntryEventSeverity(e)\n",
    "            certainty = x.getEntryEventCertainty(e)\n",
    "            urgency = x.getEntryEventUrgency(e)\n",
    "            category = x.getEntryEventCategory(e)\n",
    "            evt_start = x.getEntryEventEffective(e)\n",
    "            evt_end = x.getEntryEventExpires(e)\n",
    "                        \n",
    "            #Convert raw data to APRS-formatted data\n",
    "            f_evttype = cap.makeEventType(evttype)\n",
    "            f_alt_type = cap.makeAlertType(atype)\n",
    "            f_severity = cap.makeSeverity(severity)\n",
    "            f_certainty = cap.makeCertainty(certainty)\n",
    "            f_urgency = cap.makeUrgency(urgency)\n",
    "            f_category = cap.makeCategory(category)\n",
    "            f_evt_start = cap.makeEffectiveStart(evt_start[0])\n",
    "            f_evt_end = cap.makeEffectiveEnd(evt_end[0])\n",
    "            \n",
    "            wxmsg = m.makeWxMsgPacket(f_evttype, f_alt_type, f_severity, f_certainty, f_urgency, f_category, f_evt_start, f_evt_end)"
   ]
  },
  {
   "cell_type": "markdown",
   "id": "260ddf6c-0567-4cc9-a9bc-9563f79e8534",
   "metadata": {},
   "source": [
    "### Creating a Weather Alert Packet\n",
    "\n",
    "The process for assembling the packet is fairly straightforward.  The XML feed is parsed, the data is mangled into the APRS-NWS format alert message via the CAP library, and finally the packet is assembled using the appropriate MsgHandler method."
   ]
  },
  {
   "cell_type": "code",
   "execution_count": null,
   "id": "d869048b-2357-4def-916e-f2ba50fa4cae",
   "metadata": {},
   "outputs": [],
   "source": [
    "            zonelist = zones[0].split(' ')\n",
    "            for z in zonelist:\n",
    "                tocall = m.makeToCall(z)\n",
    "                zonetext = nm.makeNMZoneText(z)    #TODO:  this will have to change when getAlerts is modified for multiple locales\n",
    "                fullmsg = (f':{tocall}:{zonetext} ' + wxmsg)\n",
    "                with open('/tmp/wxalerts.txt', 'a') as f:\n",
    "                    f.writelines(m.appendMsgId(fullmsg) + '\\n')\n",
    "                sys.stdout.write(m.appendMsgId(fullmsg))\n",
    "            e += 1\n",
    "            \n",
    "    except Exception as ex:\n",
    "        print(f'Main Exception: {ex}')\n",
    "        pass"
   ]
  },
  {
   "cell_type": "markdown",
   "id": "7b7837a0-1373-426b-8fe0-6ffb0fb7ded7",
   "metadata": {},
   "source": [
    "### Multi-Zone Handling\n",
    "\n",
    "The NWS frequently issues an alert for more than one zone/county.  This part of the **main()** function splits the multi-entry zone data obtained earlier in the program and creates an individual alert message for each zone/county.  The individual zone label is also used as the 'tocall' for the APRS message, which is what allows end users to filter out unwanted data using client group message filtering features.\n",
    "\n",
    "Sysops of APRS-NWS should monitor packet transmission rates, as areas with a large number of alerts may oversaturate a 1200baud APRS channel.  Sysops in these areas should give consideration to using an alternate channel, or a 9600baud APRS channel if one is available in that area."
   ]
  },
  {
   "cell_type": "code",
   "execution_count": null,
   "id": "605e8976-9322-4c10-95e5-bc6324aab038",
   "metadata": {},
   "outputs": [],
   "source": [
    "    time.sleep(1800)\n",
    "            \n",
    "if __name__ == '__main__':\n",
    "    while True:\n",
    "        main()\n",
    "        time.sleep(14400)\n"
   ]
  },
  {
   "cell_type": "markdown",
   "id": "30b3c792-bdef-4e93-b18e-483ae9f2de9c",
   "metadata": {},
   "source": [
    "### Sleep Function\n",
    "\n",
    "The APRS-NWS main method is set to run every 30 minutes (1800 seconds) by default.  This rate should be more than adequate for most alert areas, but may be adjusted more/less frequently based on localized conditions.  Note:  the rate set here is the rate at which the */tmp/wxalerts.txt* file is re-created.  The rate at which APRX transmits individual packets is set at */etc/aprx.conf*.  Keep in mind that the *aprxfeeder.py* script deletes lines in the *wxalerts.txt* file, so a slow update rate here and a rapid transmit rate in APRX will have no effect, as APRX will have no lines to transmit once *aprxfeeder.py* removes those lines from the alerts text file.  Sysops should find a balance between both rates suitable for local weather and available bandwidth conditions."
   ]
  }
 ],
 "metadata": {
  "kernelspec": {
   "display_name": "Python 3",
   "language": "python",
   "name": "python3"
  },
  "language_info": {
   "codemirror_mode": {
    "name": "ipython",
    "version": 3
   },
   "file_extension": ".py",
   "mimetype": "text/x-python",
   "name": "python",
   "nbconvert_exporter": "python",
   "pygments_lexer": "ipython3",
   "version": "3.8.10"
  },
  "toc-showcode": false,
  "toc-showmarkdowntxt": false,
  "toc-showtags": true
 },
 "nbformat": 4,
 "nbformat_minor": 5
}
